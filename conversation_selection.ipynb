{
 "cells": [
  {
   "cell_type": "code",
   "execution_count": null,
   "id": "d53a3e1a-df0d-4fd1-97ac-baaffa21b37a",
   "metadata": {},
   "outputs": [],
   "source": [
    "import os\n",
    "import pandas as pd\n",
    "\n",
    "directory = \"outputs/all_climateChange\"\n",
    "\n",
    "file_stats = []\n",
    "\n",
    "for file in os.listdir(directory):\n",
    "    if file.endswith(\".csv\"):\n",
    "        file_path = os.path.join(directory, file)\n",
    "        df = pd.read_csv(file_path)\n",
    "        \n",
    "        if 'Interaction Class' in df.columns:\n",
    "            values = df['Interaction Class'].dropna()\n",
    "            mean_value = values.mean()\n",
    "            std_value = values.std()\n",
    "            \n",
    "            file_stats.append({\n",
    "                'file': file,\n",
    "                'mean': mean_value,\n",
    "                'std': std_value\n",
    "            })\n",
    "\n",
    "sorted_files = sorted(file_stats, key=lambda x: (-x['mean'], x['std']))"
   ]
  },
  {
   "cell_type": "code",
   "execution_count": 2,
   "id": "75d96a27-19f7-40e0-9e50-1fe5cdbefc04",
   "metadata": {},
   "outputs": [
    {
     "data": {
      "text/plain": [
       "2855"
      ]
     },
     "execution_count": 2,
     "metadata": {},
     "output_type": "execute_result"
    }
   ],
   "source": [
    "len(sorted_files)"
   ]
  },
  {
   "cell_type": "code",
   "execution_count": 3,
   "id": "1980f463-cd8a-4832-882d-3390409f0a49",
   "metadata": {},
   "outputs": [
    {
     "name": "stdout",
     "output_type": "stream",
     "text": [
      "0. 1497925654523822081_2022-02-27.pkl_conversation_tweets.csv - Mean: 9.78, Std: 0.92\n",
      "1. 1403132845594451970_2021-06-10.pkl_conversation_tweets.csv - Mean: 9.58, Std: 0.84\n",
      "2. 1402744877239222276_2021-06-09.pkl_conversation_tweets.csv - Mean: 9.20, Std: 1.64\n",
      "3. 1454378379256401920_2021-10-30.pkl_conversation_tweets.csv - Mean: 9.17, Std: 1.01\n",
      "4. 1458646748126187521_2021-11-11.pkl_conversation_tweets.csv - Mean: 9.00, Std: 1.03\n",
      "5. 1423659051628433409_2021-08-06.pkl_conversation_tweets.csv - Mean: 9.00, Std: 1.48\n",
      "6. 1412645311181373448_2021-07-07.pkl_conversation_tweets.csv - Mean: 8.78, Std: 1.44\n",
      "7. 1457515629506748416_2021-11-08.pkl_conversation_tweets.csv - Mean: 8.63, Std: 0.96\n",
      "8. 1435350378971811840_2021-09-07.pkl_conversation_tweets.csv - Mean: 8.63, Std: 2.83\n",
      "9. 1458427274638811141_2021-11-10.pkl_conversation_tweets.csv - Mean: 8.63, Std: 0.94\n"
     ]
    }
   ],
   "source": [
    "for idx, item in enumerate(sorted_files[:10]):\n",
    "    print(f\"{idx}. {item['file']} - Mean: {item['mean']:.2f}, Std: {item['std']:.2f}\")"
   ]
  },
  {
   "cell_type": "code",
   "execution_count": 25,
   "id": "b9f3f91a-bc18-4b5a-91b4-f421ad0e7cfe",
   "metadata": {},
   "outputs": [
    {
     "name": "stdout",
     "output_type": "stream",
     "text": [
      "\n",
      "Loaded file: 1454378379256401920_2021-10-30.pkl_conversation_tweets.csv\n"
     ]
    }
   ],
   "source": [
    "if sorted_files:\n",
    "    selected_file = sorted_files[3]['file'] \n",
    "    df = pd.read_csv(os.path.join(directory, selected_file))\n",
    "    print(f\"\\nLoaded file: {selected_file}\")\n",
    "else:\n",
    "    print(\"No files found or processed.\")"
   ]
  },
  {
   "cell_type": "code",
   "execution_count": 26,
   "id": "d67cd456-4691-4f19-b295-c207f8ce03a4",
   "metadata": {},
   "outputs": [
    {
     "name": "stdout",
     "output_type": "stream",
     "text": [
      "(25, 14)\n"
     ]
    },
    {
     "data": {
      "text/html": [
       "<div>\n",
       "<style scoped>\n",
       "    .dataframe tbody tr th:only-of-type {\n",
       "        vertical-align: middle;\n",
       "    }\n",
       "\n",
       "    .dataframe tbody tr th {\n",
       "        vertical-align: top;\n",
       "    }\n",
       "\n",
       "    .dataframe thead th {\n",
       "        text-align: right;\n",
       "    }\n",
       "</style>\n",
       "<table border=\"1\" class=\"dataframe\">\n",
       "  <thead>\n",
       "    <tr style=\"text-align: right;\">\n",
       "      <th></th>\n",
       "      <th>Tweet ID</th>\n",
       "      <th>Author ID</th>\n",
       "      <th>Tweet Text</th>\n",
       "      <th>Author Stance</th>\n",
       "      <th>Parent Tweet ID</th>\n",
       "      <th>Parent Author ID</th>\n",
       "      <th>Parent Author Stance</th>\n",
       "      <th>Tweet Stance</th>\n",
       "      <th>Tweet Affect</th>\n",
       "      <th>Tweets Agreement</th>\n",
       "      <th>Tweet Stance Explanation</th>\n",
       "      <th>Tweet Affect Explanation</th>\n",
       "      <th>Tweets Agreement Explanation</th>\n",
       "      <th>Interaction Class</th>\n",
       "    </tr>\n",
       "  </thead>\n",
       "  <tbody>\n",
       "    <tr>\n",
       "      <th>0</th>\n",
       "      <td>1454378379256401920</td>\n",
       "      <td>568143078</td>\n",
       "      <td>Why do world leaders need to fly to Rome in pr...</td>\n",
       "      <td>believe</td>\n",
       "      <td>Root Author</td>\n",
       "      <td>Root Author</td>\n",
       "      <td>Root Author</td>\n",
       "      <td>disbelief</td>\n",
       "      <td>yes</td>\n",
       "      <td>NaN</td>\n",
       "      <td>The tweet expresses disbelief in the actions o...</td>\n",
       "      <td>The tweet contains deeply negative emotions to...</td>\n",
       "      <td>NaN</td>\n",
       "      <td>NaN</td>\n",
       "    </tr>\n",
       "    <tr>\n",
       "      <th>1</th>\n",
       "      <td>1454380014363938822</td>\n",
       "      <td>877458106850127872</td>\n",
       "      <td>@MartinDaubney It's called \"climate science\".</td>\n",
       "      <td>believe</td>\n",
       "      <td>1454378379256401920</td>\n",
       "      <td>568143078</td>\n",
       "      <td>believe</td>\n",
       "      <td>belief</td>\n",
       "      <td>no</td>\n",
       "      <td>no</td>\n",
       "      <td>Tweet1 supports the belief in climate science,...</td>\n",
       "      <td>Tweet1 does not contain deeply negative emotio...</td>\n",
       "      <td>Tweet2 expresses disagreement with world leade...</td>\n",
       "      <td>8.0</td>\n",
       "    </tr>\n",
       "  </tbody>\n",
       "</table>\n",
       "</div>"
      ],
      "text/plain": [
       "              Tweet ID           Author ID  \\\n",
       "0  1454378379256401920           568143078   \n",
       "1  1454380014363938822  877458106850127872   \n",
       "\n",
       "                                          Tweet Text Author Stance  \\\n",
       "0  Why do world leaders need to fly to Rome in pr...       believe   \n",
       "1      @MartinDaubney It's called \"climate science\".       believe   \n",
       "\n",
       "       Parent Tweet ID Parent Author ID Parent Author Stance Tweet Stance  \\\n",
       "0          Root Author      Root Author          Root Author    disbelief   \n",
       "1  1454378379256401920        568143078              believe       belief   \n",
       "\n",
       "  Tweet Affect Tweets Agreement  \\\n",
       "0          yes              NaN   \n",
       "1           no               no   \n",
       "\n",
       "                            Tweet Stance Explanation  \\\n",
       "0  The tweet expresses disbelief in the actions o...   \n",
       "1  Tweet1 supports the belief in climate science,...   \n",
       "\n",
       "                            Tweet Affect Explanation  \\\n",
       "0  The tweet contains deeply negative emotions to...   \n",
       "1  Tweet1 does not contain deeply negative emotio...   \n",
       "\n",
       "                        Tweets Agreement Explanation  Interaction Class  \n",
       "0                                                NaN                NaN  \n",
       "1  Tweet2 expresses disagreement with world leade...                8.0  "
      ]
     },
     "execution_count": 26,
     "metadata": {},
     "output_type": "execute_result"
    }
   ],
   "source": [
    "print(df.shape)\n",
    "df.head(2)"
   ]
  },
  {
   "cell_type": "code",
   "execution_count": null,
   "id": "ea65ee4d-511d-4c6c-ae42-780f54300bd4",
   "metadata": {},
   "outputs": [],
   "source": []
  },
  {
   "cell_type": "code",
   "execution_count": null,
   "id": "165abe82-30a4-4c34-ad94-9cb3a44c40cd",
   "metadata": {},
   "outputs": [],
   "source": []
  },
  {
   "cell_type": "code",
   "execution_count": null,
   "id": "c8c40e63-4f14-4f71-9f60-1d890a1e80f1",
   "metadata": {},
   "outputs": [],
   "source": []
  },
  {
   "cell_type": "code",
   "execution_count": null,
   "id": "afd978fc-f4ca-4d9b-8b24-87d1ab9d7c5c",
   "metadata": {},
   "outputs": [],
   "source": []
  }
 ],
 "metadata": {
  "kernelspec": {
   "display_name": "Python 3 (ipykernel)",
   "language": "python",
   "name": "python3"
  },
  "language_info": {
   "codemirror_mode": {
    "name": "ipython",
    "version": 3
   },
   "file_extension": ".py",
   "mimetype": "text/x-python",
   "name": "python",
   "nbconvert_exporter": "python",
   "pygments_lexer": "ipython3",
   "version": "3.10.14"
  }
 },
 "nbformat": 4,
 "nbformat_minor": 5
}
