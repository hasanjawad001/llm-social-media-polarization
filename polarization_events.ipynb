{
 "cells": [
  {
   "cell_type": "code",
   "execution_count": 39,
   "id": "5624cf94-cb82-4186-a7a2-349766e6caaa",
   "metadata": {},
   "outputs": [],
   "source": [
    "event_cc = {\n",
    "    'ipcc_report': (\"2021-08-09\", \"2021-08-09\"),\n",
    "    'hurricane_ida': (\"2021-08-26\", \"2021-09-04\"),\n",
    "    'heat_wave': (\"2021-06-25\", \"2021-07-07\"),\n",
    "    'un_environment_assembly': (\"2022-02-28\", \"2022-03-02\")\n",
    "}\n",
    "event_gc = {\n",
    "    'shooting_texas': (\"2022-05-24\", \"2022-05-24\"),\n",
    "    'shooting_illinois': (\"2022-07-04\", \"2022-07-04\"),\n",
    "    'shooting_MIV': (\"2022-06-07\", \"2022-06-07\"),\n",
    "    'shooting_colorado': (\"2022-11-19\", \"2022-11-20\"),\n",
    "}"
   ]
  },
  {
   "cell_type": "code",
   "execution_count": null,
   "id": "3c4f440b-abf0-43a2-b8ae-15a7ee22a080",
   "metadata": {},
   "outputs": [],
   "source": [
    "import os\n",
    "import numpy as np\n",
    "import pandas as pd\n",
    "import re\n",
    "from langchain import PromptTemplate\n",
    "from langchain_community.llms import Ollama\n",
    "from langchain_experimental.llms.ollama_functions import OllamaFunctions\n",
    "from pprint import pprint\n",
    "import logging\n",
    "from datetime import datetime, timedelta\n",
    "import ast\n",
    "import json\n",
    "import time"
   ]
  },
  {
   "cell_type": "code",
   "execution_count": null,
   "id": "8641010c-dd8a-42ee-b037-c3764757159c",
   "metadata": {},
   "outputs": [
    {
     "name": "stdout",
     "output_type": "stream",
     "text": [
      "7761\n",
      "2022-05-24 00:00:00 2022-05-24 00:00:00 2022-05-21 00:00:00 2022-05-27 00:00:00\n",
      "2022-07-04 00:00:00 2022-07-04 00:00:00 2022-07-01 00:00:00 2022-07-07 00:00:00\n",
      "2022-06-07 00:00:00 2022-06-07 00:00:00 2022-06-04 00:00:00 2022-06-10 00:00:00\n",
      "2022-11-19 00:00:00 2022-11-20 00:00:00 2022-11-16 00:00:00 2022-11-23 00:00:00\n",
      "2022-04-12 00:00:00 2022-04-12 00:00:00 2022-04-09 00:00:00 2022-04-15 00:00:00\n",
      "2022-06-24 00:00:00 2022-06-24 00:00:00 2022-06-21 00:00:00 2022-06-27 00:00:00\n",
      "3201\n"
     ]
    }
   ],
   "source": [
    "topic = \"gun control\"\n",
    "topic_categories = [\"pro\", \"anti\", \"don't know\"]\n",
    "directory = \"datasets/all_gunControl\"\n",
    "pattern = re.compile(r'^.*_\\d{4}-\\d{2}-\\d{2}.*\\.csv$')\n",
    "files = sorted([file for file in os.listdir(directory) if pattern.match(file)])\n",
    "print(len(files))\n",
    "event_gc = {\n",
    "    'shooting_texas': (\"2022-05-24\", \"2022-05-24\"),\n",
    "    'shooting_illinois': (\"2022-07-04\", \"2022-07-04\"),\n",
    "    'shooting_MIV': (\"2022-06-07\", \"2022-06-07\"),\n",
    "    'shooting_colorado': (\"2022-11-19\", \"2022-11-20\"),\n",
    "    'attack_nyc': (\"2022-04-12\", \"2022-04-12\"),\n",
    "    'shooting_PTV': (\"2022-06-24\", \"2022-06-24\"),\n",
    "}\n",
    "pattern2 = re.compile(r'^.*_(\\d{4}-\\d{2}-\\d{2}).*\\.csv$')    \n",
    "valid_files = []\n",
    "for event_name, (start_date_str, end_date_str) in event_gc.items():\n",
    "    start_date = datetime.strptime(start_date_str, \"%Y-%m-%d\")\n",
    "    end_date = datetime.strptime(end_date_str, \"%Y-%m-%d\")\n",
    "    date_range_start = start_date - timedelta(days=3)\n",
    "    date_range_end = end_date + timedelta(days=3)\n",
    "    print(start_date, end_date, date_range_start, date_range_end)\n",
    "    for file in files:\n",
    "        match = pattern2.match(file)\n",
    "        if match:\n",
    "            file_date_str = match.group(1)\n",
    "            file_date = datetime.strptime(file_date_str, \"%Y-%m-%d\")\n",
    "            if date_range_start <= file_date <= date_range_end:\n",
    "                valid_files.append(file)\n",
    "files = sorted(set(valid_files))\n",
    "print(len(files))    "
   ]
  },
  {
   "cell_type": "code",
   "execution_count": null,
   "id": "17a1858a-dd51-4a72-a568-cfdc7f8e9d34",
   "metadata": {},
   "outputs": [],
   "source": []
  }
 ],
 "metadata": {
  "kernelspec": {
   "display_name": "Python 3 (ipykernel)",
   "language": "python",
   "name": "python3"
  },
  "language_info": {
   "codemirror_mode": {
    "name": "ipython",
    "version": 3
   },
   "file_extension": ".py",
   "mimetype": "text/x-python",
   "name": "python",
   "nbconvert_exporter": "python",
   "pygments_lexer": "ipython3",
   "version": "3.10.14"
  }
 },
 "nbformat": 4,
 "nbformat_minor": 5
}
